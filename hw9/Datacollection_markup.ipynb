{
 "cells": [
  {
   "cell_type": "markdown",
   "id": "7576dd0b-0c6e-4074-a7b0-e14de370b0f9",
   "metadata": {},
   "source": [
    "### Урок 9. Инструменты разметки наборов данных\n",
    "\n",
    "Задание 1.\n",
    "Выберите датасет, который имеет отношение к вашей области интересов или исследований. Датасет должен содержать неструктурированные данные, требующие разметки для решения конкретной задачи, например, анализа настроений или распознавания именованных сущностей.\n",
    "\n",
    "Задание 2.\n",
    "Выполните разметку на основе правил (rule-based labeling) на подмножестве выбранного датасета. Разработайте и реализуйте набор правил или условий, которые позволят автоматически присваивать метки данным на основе определенных шаблонов или критериев.\n",
    "\n",
    "Задача 3.\n",
    "Выполните разметку вручную отдельного подмножества выбранного датасета с помощью выбранного вами инструмента разметки.\n",
    "\n",
    "Задача 4.\n",
    "Объедините данные, размеченные вручную, с данными, размеченными на основе правил. Объедините два подмножества размеченных данных в один набор данных, сохранив при этом соответствующую структуру и целостность.\n",
    "\n",
    "Задача 5.\n",
    "Обучите модель машинного обучения, используя объединенный набор размеченных данных. Разделите датасет на обучающий и тестовый наборы и используйте обучающий набор для обучения модели.\n",
    "\n",
    "Задача 6.\n",
    "Оценить эффективность обученной модели на тестовом датасете. Используйте подходящие метрики оценки. Интерпретируйте результаты и проанализируйте эффективность модели в решении задачи разметки."
   ]
  },
  {
   "cell_type": "markdown",
   "id": "92a13bb2-24aa-409d-bd20-2db65fbc8fb0",
   "metadata": {},
   "source": [
    "Создадим свой датасет собранный из отзывов на зарличные продукты на сайте https://otzovik.com/.\n",
    "Для изучения возьмем продукт имеющий высокие оценки с достоточной выборкой - netflix\n",
    "Используем scrapy чтобы собрать следующие данные:\n",
    "- Комментарий пользователя\n",
    "- Рейтинг\n",
    "- Имя комментатора\n",
    "Полученные данные сохраним в csv."
   ]
  },
  {
   "cell_type": "code",
   "execution_count": 7,
   "id": "313fc6fa-be8c-4ca1-a0c5-f8be09c498c5",
   "metadata": {},
   "outputs": [],
   "source": [
    "# Запустим сборшик данных один раз. После чего закомментируем.\n",
    "# %run otzovik/runner.py"
   ]
  },
  {
   "cell_type": "code",
   "execution_count": null,
   "id": "5522185d-2bdf-447f-9aaf-38f8a12aeda7",
   "metadata": {},
   "outputs": [],
   "source": []
  },
  {
   "cell_type": "code",
   "execution_count": 9,
   "id": "c590aa0e-6fd5-42dd-8f07-217ff0befc4a",
   "metadata": {},
   "outputs": [],
   "source": [
    "import pandas as pd\n",
    "import numpy as np\n",
    "import matplotlib.pyplot as plt\n",
    "import seaborn as sns\n",
    "from IPython.display import display, HTML # HTML(df.to_html())\n",
    "\n",
    "from sklearn.feature_extraction.text import TfidfVectorizer\n",
    "from sklearn.linear_model import LogisticRegression\n",
    "from sklearn.model_selection import train_test_split\n",
    "from sklearn.metrics import f1_score\n",
    "from sklearn.utils import shuffle\n"
   ]
  },
  {
   "cell_type": "code",
   "execution_count": 2,
   "id": "d18ab3cd-ac59-42c8-ba3e-64d0d2d8f73a",
   "metadata": {},
   "outputs": [
    {
     "data": {
      "text/html": [
       "<div>\n",
       "<style scoped>\n",
       "    .dataframe tbody tr th:only-of-type {\n",
       "        vertical-align: middle;\n",
       "    }\n",
       "\n",
       "    .dataframe tbody tr th {\n",
       "        vertical-align: top;\n",
       "    }\n",
       "\n",
       "    .dataframe thead th {\n",
       "        text-align: right;\n",
       "    }\n",
       "</style>\n",
       "<table border=\"1\" class=\"dataframe\">\n",
       "  <thead>\n",
       "    <tr style=\"text-align: right;\">\n",
       "      <th></th>\n",
       "      <th>comment</th>\n",
       "      <th>rating</th>\n",
       "      <th>username</th>\n",
       "    </tr>\n",
       "  </thead>\n",
       "  <tbody>\n",
       "    <tr>\n",
       "      <th>0</th>\n",
       "      <td>удобно Почти год пользуюсь подпиской, там мног...</td>\n",
       "      <td>5</td>\n",
       "      <td>Marria1964</td>\n",
       "    </tr>\n",
       "    <tr>\n",
       "      <th>1</th>\n",
       "      <td>Улыбающийся аватар в хоррор-кинотеатре — это н...</td>\n",
       "      <td>4</td>\n",
       "      <td>TerraBit</td>\n",
       "    </tr>\n",
       "    <tr>\n",
       "      <th>2</th>\n",
       "      <td>Могу советовать! Вот и дошли мои потные руки д...</td>\n",
       "      <td>5</td>\n",
       "      <td>punkee</td>\n",
       "    </tr>\n",
       "    <tr>\n",
       "      <th>3</th>\n",
       "      <td>Выбирайте отечественное Где-то с неделю назад ...</td>\n",
       "      <td>5</td>\n",
       "      <td>ashu6303</td>\n",
       "    </tr>\n",
       "    <tr>\n",
       "      <th>4</th>\n",
       "      <td>Отличный канал! Я подписалась на Netflix уже б...</td>\n",
       "      <td>5</td>\n",
       "      <td>Severnaya Dama</td>\n",
       "    </tr>\n",
       "  </tbody>\n",
       "</table>\n",
       "</div>"
      ],
      "text/plain": [
       "                                             comment  rating        username\n",
       "0  удобно Почти год пользуюсь подпиской, там мног...       5      Marria1964\n",
       "1  Улыбающийся аватар в хоррор-кинотеатре — это н...       4        TerraBit\n",
       "2  Могу советовать! Вот и дошли мои потные руки д...       5          punkee\n",
       "3  Выбирайте отечественное Где-то с неделю назад ...       5        ashu6303\n",
       "4  Отличный канал! Я подписалась на Netflix уже б...       5  Severnaya Dama"
      ]
     },
     "execution_count": 2,
     "metadata": {},
     "output_type": "execute_result"
    }
   ],
   "source": [
    "df = pd.read_csv('otzovik/data/comment.csv', engine='python', encoding='utf-8', on_bad_lines=\"skip\", encoding_errors=\"ignore\")\n",
    "df.head()"
   ]
  },
  {
   "cell_type": "code",
   "execution_count": 3,
   "id": "2617faa3-eab4-4422-abbc-62b77f4f183a",
   "metadata": {},
   "outputs": [
    {
     "data": {
      "text/plain": [
       "<Axes: >"
      ]
     },
     "execution_count": 3,
     "metadata": {},
     "output_type": "execute_result"
    },
    {
     "data": {
      "image/png": "[encoded data removed]",
      "text/plain": [
       "<Figure size 640x480 with 1 Axes>"
      ]
     },
     "metadata": {},
     "output_type": "display_data"
    }
   ],
   "source": [
    "df[\"rating\"].hist()"
   ]
  },
  {
   "cell_type": "markdown",
   "id": "a7a621fd-b316-4a1a-9bbc-47cad5f6b215",
   "metadata": {},
   "source": [
    "Структура собранных данных уже содержит оценочный рейтинг выставленный самими пользователями.\n",
    "В учебных целях выполним разметку на основе правил ранжировав данные на две категории  - позитивных и негативных отзывов."
   ]
  },
  {
   "cell_type": "code",
   "execution_count": 4,
   "id": "0c1e215a-fe8d-4be5-9f96-c9a39ed64051",
   "metadata": {},
   "outputs": [],
   "source": [
    "def evaluation_rule(row):\n",
    "    if row[\"rating\"] > 3:\n",
    "        return \"positive\"\n",
    "    else:\n",
    "        return \"negative\""
   ]
  },
  {
   "cell_type": "code",
   "execution_count": 5,
   "id": "cb162644-11d9-4d20-b195-a7a58b81db23",
   "metadata": {},
   "outputs": [
    {
     "data": {
      "text/html": [
       "<div>\n",
       "<style scoped>\n",
       "    .dataframe tbody tr th:only-of-type {\n",
       "        vertical-align: middle;\n",
       "    }\n",
       "\n",
       "    .dataframe tbody tr th {\n",
       "        vertical-align: top;\n",
       "    }\n",
       "\n",
       "    .dataframe thead th {\n",
       "        text-align: right;\n",
       "    }\n",
       "</style>\n",
       "<table border=\"1\" class=\"dataframe\">\n",
       "  <thead>\n",
       "    <tr style=\"text-align: right;\">\n",
       "      <th></th>\n",
       "      <th>comment</th>\n",
       "      <th>rating</th>\n",
       "      <th>username</th>\n",
       "      <th>user_evaluation</th>\n",
       "    </tr>\n",
       "  </thead>\n",
       "  <tbody>\n",
       "    <tr>\n",
       "      <th>0</th>\n",
       "      <td>удобно Почти год пользуюсь подпиской, там мног...</td>\n",
       "      <td>5</td>\n",
       "      <td>Marria1964</td>\n",
       "      <td>positive</td>\n",
       "    </tr>\n",
       "    <tr>\n",
       "      <th>1</th>\n",
       "      <td>Улыбающийся аватар в хоррор-кинотеатре — это н...</td>\n",
       "      <td>4</td>\n",
       "      <td>TerraBit</td>\n",
       "      <td>positive</td>\n",
       "    </tr>\n",
       "    <tr>\n",
       "      <th>2</th>\n",
       "      <td>Могу советовать! Вот и дошли мои потные руки д...</td>\n",
       "      <td>5</td>\n",
       "      <td>punkee</td>\n",
       "      <td>positive</td>\n",
       "    </tr>\n",
       "    <tr>\n",
       "      <th>3</th>\n",
       "      <td>Выбирайте отечественное Где-то с неделю назад ...</td>\n",
       "      <td>5</td>\n",
       "      <td>ashu6303</td>\n",
       "      <td>positive</td>\n",
       "    </tr>\n",
       "    <tr>\n",
       "      <th>4</th>\n",
       "      <td>Отличный канал! Я подписалась на Netflix уже б...</td>\n",
       "      <td>5</td>\n",
       "      <td>Severnaya Dama</td>\n",
       "      <td>positive</td>\n",
       "    </tr>\n",
       "  </tbody>\n",
       "</table>\n",
       "</div>"
      ],
      "text/plain": [
       "                                             comment  rating        username  \\\n",
       "0  удобно Почти год пользуюсь подпиской, там мног...       5      Marria1964   \n",
       "1  Улыбающийся аватар в хоррор-кинотеатре — это н...       4        TerraBit   \n",
       "2  Могу советовать! Вот и дошли мои потные руки д...       5          punkee   \n",
       "3  Выбирайте отечественное Где-то с неделю назад ...       5        ashu6303   \n",
       "4  Отличный канал! Я подписалась на Netflix уже б...       5  Severnaya Dama   \n",
       "\n",
       "  user_evaluation  \n",
       "0        positive  \n",
       "1        positive  \n",
       "2        positive  \n",
       "3        positive  \n",
       "4        positive  "
      ]
     },
     "execution_count": 5,
     "metadata": {},
     "output_type": "execute_result"
    }
   ],
   "source": [
    "df[\"user_evaluation\"] = df.apply(evaluation_rule, axis=1)\n",
    "df.head()"
   ]
  },
  {
   "cell_type": "code",
   "execution_count": 14,
   "id": "7f9340c6-960e-4a8a-ab85-51e344234be8",
   "metadata": {},
   "outputs": [],
   "source": [
    "# import spacy\n",
    "# nlp = spacy.load(\"ru_core_news_sm\")"
   ]
  },
  {
   "cell_type": "code",
   "execution_count": 16,
   "id": "1ba35f11-22a9-4ca4-8857-25d0c97a8439",
   "metadata": {},
   "outputs": [],
   "source": [
    "# def lemmatize(doc):\n",
    "#     words = []\n",
    "#     for token in doc:\n",
    "#         if (token.is_stop != True) and (token.is_punct != True) and\\\n",
    "#             (token.is_space != True) and (token.is_digit != True):\n",
    "#             words.append(token.lemma_)\n",
    "#     return ' '.join(words)"
   ]
  },
  {
   "cell_type": "code",
   "execution_count": 20,
   "id": "70bbd226-0545-4675-b175-30056450690e",
   "metadata": {},
   "outputs": [],
   "source": [
    "# df_test['doc_text']= list(nlp.pipe(df['comment'], n_process=3, batch_size=1000).progress_apply(lemmatize))\n",
    "# df_test.info()"
   ]
  },
  {
   "cell_type": "code",
   "execution_count": null,
   "id": "cf7eefb7-411a-4667-bafc-6b47a8132805",
   "metadata": {},
   "outputs": [],
   "source": [
    "\n",
    "# df['doc_text']= list(nlp.pipe(df['comment'], n_process=3, batch_size=1000)).progress_apply(lemmatize)\n",
    "# df.info()"
   ]
  },
  {
   "cell_type": "code",
   "execution_count": 35,
   "id": "812e4e48-75dd-417b-9b62-c9d8ac2aaf25",
   "metadata": {},
   "outputs": [],
   "source": [
    "# for doc in docs:\n",
    "#     df['clear_text']= df['doc_text'].progress_apply(lemmatize)\n"
   ]
  },
  {
   "cell_type": "code",
   "execution_count": 6,
   "id": "faffbcfd-e5e3-429c-bdd8-7fb03ff2628e",
   "metadata": {},
   "outputs": [
    {
     "name": "stdout",
     "output_type": "stream",
     "text": [
      "<class 'pandas.core.frame.DataFrame'>\n",
      "RangeIndex: 20 entries, 0 to 19\n",
      "Data columns (total 4 columns):\n",
      " #   Column           Non-Null Count  Dtype \n",
      "---  ------           --------------  ----- \n",
      " 0   comment          20 non-null     object\n",
      " 1   rating           20 non-null     int64 \n",
      " 2   username         20 non-null     object\n",
      " 3   user_evaluation  20 non-null     object\n",
      "dtypes: int64(1), object(3)\n",
      "memory usage: 772.0+ bytes\n"
     ]
    }
   ],
   "source": [
    "# Для тестирования других инструментов атоматической разметки создадим отдельный малый датасет.\n",
    "df_test = df[:20]\n",
    "df_test.info()"
   ]
  },
  {
   "cell_type": "code",
   "execution_count": 7,
   "id": "d02e8934-870e-48d2-bbc9-60b4e8b38d10",
   "metadata": {},
   "outputs": [
    {
     "name": "stderr",
     "output_type": "stream",
     "text": [
      "[nltk_data] Downloading package punkt to\n",
      "[nltk_data]     C:\\Users\\Лина\\AppData\\Roaming\\nltk_data...\n",
      "[nltk_data]   Package punkt is already up-to-date!\n"
     ]
    },
    {
     "data": {
      "text/plain": [
       "True"
      ]
     },
     "execution_count": 7,
     "metadata": {},
     "output_type": "execute_result"
    }
   ],
   "source": [
    "import nltk\n",
    "nltk.download('punkt')"
   ]
  },
  {
   "cell_type": "code",
   "execution_count": 11,
   "id": "f0c92841-9322-4e22-a659-fd80d00f8293",
   "metadata": {},
   "outputs": [],
   "source": [
    "from textblob import TextBlob"
   ]
  },
  {
   "cell_type": "code",
   "execution_count": 12,
   "id": "deddc565-6386-4f11-b722-870ee4d06a70",
   "metadata": {},
   "outputs": [],
   "source": [
    "def get_sentiment(comment):\n",
    "    blob = TextBlob(comment)\n",
    "    return blob.sentiment.polarity"
   ]
  },
  {
   "cell_type": "code",
   "execution_count": 14,
   "id": "a900fab0-e88a-48c8-814e-db81029dc0b8",
   "metadata": {},
   "outputs": [
    {
     "name": "stderr",
     "output_type": "stream",
     "text": [
      "C:\\Users\\Лина\\AppData\\Local\\Temp\\ipykernel_9516\\611015580.py:1: SettingWithCopyWarning: \n",
      "A value is trying to be set on a copy of a slice from a DataFrame.\n",
      "Try using .loc[row_indexer,col_indexer] = value instead\n",
      "\n",
      "See the caveats in the documentation: https://pandas.pydata.org/pandas-docs/stable/user_guide/indexing.html#returning-a-view-versus-a-copy\n",
      "  df_test['sentiment'] = df_test['comment'].apply(get_sentiment)\n"
     ]
    }
   ],
   "source": [
    "df_test['sentiment'] = df_test['comment'].apply(get_sentiment)"
   ]
  },
  {
   "cell_type": "code",
   "execution_count": 15,
   "id": "856a5f7e-e81e-4d4a-9ca1-c597b2748d06",
   "metadata": {},
   "outputs": [
    {
     "data": {
      "text/html": [
       "<div>\n",
       "<style scoped>\n",
       "    .dataframe tbody tr th:only-of-type {\n",
       "        vertical-align: middle;\n",
       "    }\n",
       "\n",
       "    .dataframe tbody tr th {\n",
       "        vertical-align: top;\n",
       "    }\n",
       "\n",
       "    .dataframe thead th {\n",
       "        text-align: right;\n",
       "    }\n",
       "</style>\n",
       "<table border=\"1\" class=\"dataframe\">\n",
       "  <thead>\n",
       "    <tr style=\"text-align: right;\">\n",
       "      <th></th>\n",
       "      <th>comment</th>\n",
       "      <th>rating</th>\n",
       "      <th>username</th>\n",
       "      <th>user_evaluation</th>\n",
       "      <th>sentiment</th>\n",
       "    </tr>\n",
       "  </thead>\n",
       "  <tbody>\n",
       "    <tr>\n",
       "      <th>0</th>\n",
       "      <td>удобно Почти год пользуюсь подпиской, там мног...</td>\n",
       "      <td>5</td>\n",
       "      <td>Marria1964</td>\n",
       "      <td>positive</td>\n",
       "      <td>0.0</td>\n",
       "    </tr>\n",
       "    <tr>\n",
       "      <th>1</th>\n",
       "      <td>Улыбающийся аватар в хоррор-кинотеатре — это н...</td>\n",
       "      <td>4</td>\n",
       "      <td>TerraBit</td>\n",
       "      <td>positive</td>\n",
       "      <td>0.0</td>\n",
       "    </tr>\n",
       "    <tr>\n",
       "      <th>2</th>\n",
       "      <td>Могу советовать! Вот и дошли мои потные руки д...</td>\n",
       "      <td>5</td>\n",
       "      <td>punkee</td>\n",
       "      <td>positive</td>\n",
       "      <td>0.0</td>\n",
       "    </tr>\n",
       "    <tr>\n",
       "      <th>3</th>\n",
       "      <td>Выбирайте отечественное Где-то с неделю назад ...</td>\n",
       "      <td>5</td>\n",
       "      <td>ashu6303</td>\n",
       "      <td>positive</td>\n",
       "      <td>0.0</td>\n",
       "    </tr>\n",
       "    <tr>\n",
       "      <th>4</th>\n",
       "      <td>Отличный канал! Я подписалась на Netflix уже б...</td>\n",
       "      <td>5</td>\n",
       "      <td>Severnaya Dama</td>\n",
       "      <td>positive</td>\n",
       "      <td>0.0</td>\n",
       "    </tr>\n",
       "  </tbody>\n",
       "</table>\n",
       "</div>"
      ],
      "text/plain": [
       "                                             comment  rating        username  \\\n",
       "0  удобно Почти год пользуюсь подпиской, там мног...       5      Marria1964   \n",
       "1  Улыбающийся аватар в хоррор-кинотеатре — это н...       4        TerraBit   \n",
       "2  Могу советовать! Вот и дошли мои потные руки д...       5          punkee   \n",
       "3  Выбирайте отечественное Где-то с неделю назад ...       5        ashu6303   \n",
       "4  Отличный канал! Я подписалась на Netflix уже б...       5  Severnaya Dama   \n",
       "\n",
       "  user_evaluation  sentiment  \n",
       "0        positive        0.0  \n",
       "1        positive        0.0  \n",
       "2        positive        0.0  \n",
       "3        positive        0.0  \n",
       "4        positive        0.0  "
      ]
     },
     "execution_count": 15,
     "metadata": {},
     "output_type": "execute_result"
    }
   ],
   "source": [
    "df_test.head()"
   ]
  },
  {
   "cell_type": "code",
   "execution_count": 16,
   "id": "99c51e67-8389-4e94-86c4-ed63ce9c91d0",
   "metadata": {},
   "outputs": [],
   "source": [
    "def get_sentiment_label(score):\n",
    "    if score > 0:\n",
    "        return 'positive'\n",
    "    elif score < 0:\n",
    "        return 'negative'\n",
    "    else:\n",
    "        return 'neutral'"
   ]
  },
  {
   "cell_type": "code",
   "execution_count": 17,
   "id": "99faba6d-130d-4f23-95f4-7f9282b48808",
   "metadata": {},
   "outputs": [
    {
     "name": "stderr",
     "output_type": "stream",
     "text": [
      "C:\\Users\\Лина\\AppData\\Local\\Temp\\ipykernel_9516\\441448083.py:1: SettingWithCopyWarning: \n",
      "A value is trying to be set on a copy of a slice from a DataFrame.\n",
      "Try using .loc[row_indexer,col_indexer] = value instead\n",
      "\n",
      "See the caveats in the documentation: https://pandas.pydata.org/pandas-docs/stable/user_guide/indexing.html#returning-a-view-versus-a-copy\n",
      "  df_test['sentiment_label'] = df_test['sentiment'].apply(get_sentiment_label)\n"
     ]
    }
   ],
   "source": [
    "df_test['sentiment_label'] = df_test['sentiment'].apply(get_sentiment_label)"
   ]
  },
  {
   "cell_type": "code",
   "execution_count": 19,
   "id": "286d7817-bec5-4c4e-ba39-aa8dd7b64a1c",
   "metadata": {},
   "outputs": [
    {
     "data": {
      "text/html": [
       "<div>\n",
       "<style scoped>\n",
       "    .dataframe tbody tr th:only-of-type {\n",
       "        vertical-align: middle;\n",
       "    }\n",
       "\n",
       "    .dataframe tbody tr th {\n",
       "        vertical-align: top;\n",
       "    }\n",
       "\n",
       "    .dataframe thead th {\n",
       "        text-align: right;\n",
       "    }\n",
       "</style>\n",
       "<table border=\"1\" class=\"dataframe\">\n",
       "  <thead>\n",
       "    <tr style=\"text-align: right;\">\n",
       "      <th></th>\n",
       "      <th>comment</th>\n",
       "      <th>rating</th>\n",
       "      <th>username</th>\n",
       "      <th>user_evaluation</th>\n",
       "      <th>sentiment</th>\n",
       "      <th>sentiment_label</th>\n",
       "    </tr>\n",
       "  </thead>\n",
       "  <tbody>\n",
       "    <tr>\n",
       "      <th>0</th>\n",
       "      <td>удобно Почти год пользуюсь подпиской, там мног...</td>\n",
       "      <td>5</td>\n",
       "      <td>Marria1964</td>\n",
       "      <td>positive</td>\n",
       "      <td>0.0</td>\n",
       "      <td>neutral</td>\n",
       "    </tr>\n",
       "    <tr>\n",
       "      <th>1</th>\n",
       "      <td>Улыбающийся аватар в хоррор-кинотеатре — это н...</td>\n",
       "      <td>4</td>\n",
       "      <td>TerraBit</td>\n",
       "      <td>positive</td>\n",
       "      <td>0.0</td>\n",
       "      <td>neutral</td>\n",
       "    </tr>\n",
       "    <tr>\n",
       "      <th>2</th>\n",
       "      <td>Могу советовать! Вот и дошли мои потные руки д...</td>\n",
       "      <td>5</td>\n",
       "      <td>punkee</td>\n",
       "      <td>positive</td>\n",
       "      <td>0.0</td>\n",
       "      <td>neutral</td>\n",
       "    </tr>\n",
       "    <tr>\n",
       "      <th>3</th>\n",
       "      <td>Выбирайте отечественное Где-то с неделю назад ...</td>\n",
       "      <td>5</td>\n",
       "      <td>ashu6303</td>\n",
       "      <td>positive</td>\n",
       "      <td>0.0</td>\n",
       "      <td>neutral</td>\n",
       "    </tr>\n",
       "    <tr>\n",
       "      <th>4</th>\n",
       "      <td>Отличный канал! Я подписалась на Netflix уже б...</td>\n",
       "      <td>5</td>\n",
       "      <td>Severnaya Dama</td>\n",
       "      <td>positive</td>\n",
       "      <td>0.0</td>\n",
       "      <td>neutral</td>\n",
       "    </tr>\n",
       "    <tr>\n",
       "      <th>5</th>\n",
       "      <td>Мало новинок. Больше сериалов. Без рекламы. На...</td>\n",
       "      <td>3</td>\n",
       "      <td>allMania</td>\n",
       "      <td>negative</td>\n",
       "      <td>0.0</td>\n",
       "      <td>neutral</td>\n",
       "    </tr>\n",
       "    <tr>\n",
       "      <th>6</th>\n",
       "      <td>классный контент в большом количестве Долго ду...</td>\n",
       "      <td>5</td>\n",
       "      <td>ФомаПростой</td>\n",
       "      <td>positive</td>\n",
       "      <td>0.0</td>\n",
       "      <td>neutral</td>\n",
       "    </tr>\n",
       "    <tr>\n",
       "      <th>7</th>\n",
       "      <td>Все плюсы и минусы. Netflix - один из популярн...</td>\n",
       "      <td>4</td>\n",
       "      <td>Soblaznitel naya</td>\n",
       "      <td>positive</td>\n",
       "      <td>0.0</td>\n",
       "      <td>neutral</td>\n",
       "    </tr>\n",
       "    <tr>\n",
       "      <th>8</th>\n",
       "      <td>Слишком толерантная площадка. Пришло время и я...</td>\n",
       "      <td>2</td>\n",
       "      <td>Андрей Лузанов</td>\n",
       "      <td>negative</td>\n",
       "      <td>0.0</td>\n",
       "      <td>neutral</td>\n",
       "    </tr>\n",
       "    <tr>\n",
       "      <th>9</th>\n",
       "      <td>балдею Все мы в курсе что за махина этот Netfl...</td>\n",
       "      <td>5</td>\n",
       "      <td>natalochka-san</td>\n",
       "      <td>positive</td>\n",
       "      <td>0.0</td>\n",
       "      <td>neutral</td>\n",
       "    </tr>\n",
       "    <tr>\n",
       "      <th>10</th>\n",
       "      <td>Неправильное пояснение при оплате Я просто реш...</td>\n",
       "      <td>1</td>\n",
       "      <td>kommentator30067</td>\n",
       "      <td>negative</td>\n",
       "      <td>0.0</td>\n",
       "      <td>neutral</td>\n",
       "    </tr>\n",
       "    <tr>\n",
       "      <th>11</th>\n",
       "      <td>Прекрасный канал Всем доброго времени суток! П...</td>\n",
       "      <td>5</td>\n",
       "      <td>kyana</td>\n",
       "      <td>positive</td>\n",
       "      <td>0.0</td>\n",
       "      <td>neutral</td>\n",
       "    </tr>\n",
       "    <tr>\n",
       "      <th>12</th>\n",
       "      <td>Качественный онлайн-кинотеатр Первые впечатлен...</td>\n",
       "      <td>5</td>\n",
       "      <td>Ferdinand18</td>\n",
       "      <td>positive</td>\n",
       "      <td>0.0</td>\n",
       "      <td>neutral</td>\n",
       "    </tr>\n",
       "    <tr>\n",
       "      <th>13</th>\n",
       "      <td>хорошее качество видео Доброго времени суток, ...</td>\n",
       "      <td>5</td>\n",
       "      <td>Lastochkatanya</td>\n",
       "      <td>positive</td>\n",
       "      <td>0.0</td>\n",
       "      <td>neutral</td>\n",
       "    </tr>\n",
       "    <tr>\n",
       "      <th>14</th>\n",
       "      <td>Заметно лучше, чем 3 года назад... В первый ра...</td>\n",
       "      <td>5</td>\n",
       "      <td>MHOops</td>\n",
       "      <td>positive</td>\n",
       "      <td>0.0</td>\n",
       "      <td>neutral</td>\n",
       "    </tr>\n",
       "    <tr>\n",
       "      <th>15</th>\n",
       "      <td>Большой выбор фильмов Пользуюсь Netflix уже не...</td>\n",
       "      <td>4</td>\n",
       "      <td>Mrs Courtney</td>\n",
       "      <td>positive</td>\n",
       "      <td>0.0</td>\n",
       "      <td>neutral</td>\n",
       "    </tr>\n",
       "    <tr>\n",
       "      <th>16</th>\n",
       "      <td>Очень удобно Как и многие другие люди, я стал ...</td>\n",
       "      <td>5</td>\n",
       "      <td>Frolov23</td>\n",
       "      <td>positive</td>\n",
       "      <td>0.0</td>\n",
       "      <td>neutral</td>\n",
       "    </tr>\n",
       "    <tr>\n",
       "      <th>17</th>\n",
       "      <td>Адаптации Netflix как площадка для просмотра ф...</td>\n",
       "      <td>4</td>\n",
       "      <td>OFIX</td>\n",
       "      <td>positive</td>\n",
       "      <td>0.0</td>\n",
       "      <td>neutral</td>\n",
       "    </tr>\n",
       "    <tr>\n",
       "      <th>18</th>\n",
       "      <td>Насыщенный контент и удобство в использовании:...</td>\n",
       "      <td>4</td>\n",
       "      <td>Lenka1273</td>\n",
       "      <td>positive</td>\n",
       "      <td>0.0</td>\n",
       "      <td>neutral</td>\n",
       "    </tr>\n",
       "    <tr>\n",
       "      <th>19</th>\n",
       "      <td>Лучшее, что есть в интернете. Но, далеко не хо...</td>\n",
       "      <td>5</td>\n",
       "      <td>Jose097</td>\n",
       "      <td>positive</td>\n",
       "      <td>0.0</td>\n",
       "      <td>neutral</td>\n",
       "    </tr>\n",
       "  </tbody>\n",
       "</table>\n",
       "</div>"
      ],
      "text/plain": [
       "                                              comment  rating  \\\n",
       "0   удобно Почти год пользуюсь подпиской, там мног...       5   \n",
       "1   Улыбающийся аватар в хоррор-кинотеатре — это н...       4   \n",
       "2   Могу советовать! Вот и дошли мои потные руки д...       5   \n",
       "3   Выбирайте отечественное Где-то с неделю назад ...       5   \n",
       "4   Отличный канал! Я подписалась на Netflix уже б...       5   \n",
       "5   Мало новинок. Больше сериалов. Без рекламы. На...       3   \n",
       "6   классный контент в большом количестве Долго ду...       5   \n",
       "7   Все плюсы и минусы. Netflix - один из популярн...       4   \n",
       "8   Слишком толерантная площадка. Пришло время и я...       2   \n",
       "9   балдею Все мы в курсе что за махина этот Netfl...       5   \n",
       "10  Неправильное пояснение при оплате Я просто реш...       1   \n",
       "11  Прекрасный канал Всем доброго времени суток! П...       5   \n",
       "12  Качественный онлайн-кинотеатр Первые впечатлен...       5   \n",
       "13  хорошее качество видео Доброго времени суток, ...       5   \n",
       "14  Заметно лучше, чем 3 года назад... В первый ра...       5   \n",
       "15  Большой выбор фильмов Пользуюсь Netflix уже не...       4   \n",
       "16  Очень удобно Как и многие другие люди, я стал ...       5   \n",
       "17  Адаптации Netflix как площадка для просмотра ф...       4   \n",
       "18  Насыщенный контент и удобство в использовании:...       4   \n",
       "19  Лучшее, что есть в интернете. Но, далеко не хо...       5   \n",
       "\n",
       "            username user_evaluation  sentiment sentiment_label  \n",
       "0         Marria1964        positive        0.0         neutral  \n",
       "1           TerraBit        positive        0.0         neutral  \n",
       "2             punkee        positive        0.0         neutral  \n",
       "3           ashu6303        positive        0.0         neutral  \n",
       "4     Severnaya Dama        positive        0.0         neutral  \n",
       "5           allMania        negative        0.0         neutral  \n",
       "6        ФомаПростой        positive        0.0         neutral  \n",
       "7   Soblaznitel naya        positive        0.0         neutral  \n",
       "8     Андрей Лузанов        negative        0.0         neutral  \n",
       "9     natalochka-san        positive        0.0         neutral  \n",
       "10  kommentator30067        negative        0.0         neutral  \n",
       "11             kyana        positive        0.0         neutral  \n",
       "12       Ferdinand18        positive        0.0         neutral  \n",
       "13    Lastochkatanya        positive        0.0         neutral  \n",
       "14            MHOops        positive        0.0         neutral  \n",
       "15      Mrs Courtney        positive        0.0         neutral  \n",
       "16          Frolov23        positive        0.0         neutral  \n",
       "17              OFIX        positive        0.0         neutral  \n",
       "18         Lenka1273        positive        0.0         neutral  \n",
       "19           Jose097        positive        0.0         neutral  "
      ]
     },
     "execution_count": 19,
     "metadata": {},
     "output_type": "execute_result"
    }
   ],
   "source": [
    "df_test.head(20)"
   ]
  },
  {
   "cell_type": "markdown",
   "id": "f58a3aa3-dc73-4387-953f-718e61efff32",
   "metadata": {},
   "source": [
    "Определенно можно сделать вывод что данный инструмент не обрабатывает русский язык. "
   ]
  },
  {
   "cell_type": "code",
   "execution_count": 38,
   "id": "3d4f33b7-8434-4e15-9455-51c8fcf6773a",
   "metadata": {},
   "outputs": [
    {
     "data": {
      "text/plain": [
       "Sentiment(polarity=-0.09999999999999998, subjectivity=0.875)"
      ]
     },
     "execution_count": 38,
     "metadata": {},
     "output_type": "execute_result"
    }
   ],
   "source": [
    "text22 = 'Это великолепная проверка работы отвратительного скрипта'\n",
    "text23 = \"This is a great test of the disgusting script\"\n",
    "blob = TextBlob(text23)\n",
    "blob.sentiment"
   ]
  },
  {
   "cell_type": "markdown",
   "id": "bf23a135-b017-4dcd-868d-d3b5ddf33ddd",
   "metadata": {},
   "source": [
    "Можно использовать костыли в виде api сервисов представляющих услуги перевода. Но метод trancelite() для textblob перестал работать. Можно использовать бибилиотеку spacy в качестве переводчика и разметки данных. Но пока что мы попробуем разметить данные вручную используя инструмент label-studio.\n",
    "Для этого создадим небольешой датасет для ручной разметки."
   ]
  },
  {
   "cell_type": "code",
   "execution_count": 41,
   "id": "3a44e895-1851-4aed-9d1f-6a998ec18857",
   "metadata": {},
   "outputs": [
    {
     "name": "stdout",
     "output_type": "stream",
     "text": [
      "<class 'pandas.core.frame.DataFrame'>\n",
      "Index: 64 entries, 288 to 185\n",
      "Data columns (total 4 columns):\n",
      " #   Column           Non-Null Count  Dtype \n",
      "---  ------           --------------  ----- \n",
      " 0   comment          64 non-null     object\n",
      " 1   rating           64 non-null     int64 \n",
      " 2   username         64 non-null     object\n",
      " 3   user_evaluation  64 non-null     object\n",
      "dtypes: int64(1), object(3)\n",
      "memory usage: 2.5+ KB\n"
     ]
    }
   ],
   "source": [
    "df = shuffle(df)\n",
    "label_df, unlabel_df = train_test_split(df, train_size=0.2, random_state=15)\n",
    "label_df.info()"
   ]
  },
  {
   "cell_type": "code",
   "execution_count": 43,
   "id": "d7ac81e3-4b98-4b7e-9814-fbd3c711b414",
   "metadata": {},
   "outputs": [],
   "source": [
    "label_df.to_csv('comment_lebel.csv', index=False)"
   ]
  },
  {
   "cell_type": "code",
   "execution_count": 44,
   "id": "8d3b2128-c340-4882-ba06-e9ef40826f4c",
   "metadata": {},
   "outputs": [
    {
     "data": {
      "text/html": [
       "<div>\n",
       "<style scoped>\n",
       "    .dataframe tbody tr th:only-of-type {\n",
       "        vertical-align: middle;\n",
       "    }\n",
       "\n",
       "    .dataframe tbody tr th {\n",
       "        vertical-align: top;\n",
       "    }\n",
       "\n",
       "    .dataframe thead th {\n",
       "        text-align: right;\n",
       "    }\n",
       "</style>\n",
       "<table border=\"1\" class=\"dataframe\">\n",
       "  <thead>\n",
       "    <tr style=\"text-align: right;\">\n",
       "      <th></th>\n",
       "      <th>comment</th>\n",
       "      <th>rating</th>\n",
       "      <th>username</th>\n",
       "      <th>user_evaluation</th>\n",
       "    </tr>\n",
       "  </thead>\n",
       "  <tbody>\n",
       "    <tr>\n",
       "      <th>0</th>\n",
       "      <td>Удобный Когда-то оформлял подписку на Netflix,...</td>\n",
       "      <td>5</td>\n",
       "      <td>Nilufar01</td>\n",
       "      <td>positive</td>\n",
       "    </tr>\n",
       "    <tr>\n",
       "      <th>1</th>\n",
       "      <td>лучший онлайн-кинотеатр Я уже несколько лет по...</td>\n",
       "      <td>5</td>\n",
       "      <td>mokakoi</td>\n",
       "      <td>positive</td>\n",
       "    </tr>\n",
       "    <tr>\n",
       "      <th>2</th>\n",
       "      <td>Очень крутое приложение Подписку нам подарила ...</td>\n",
       "      <td>5</td>\n",
       "      <td>MiraMAV</td>\n",
       "      <td>positive</td>\n",
       "    </tr>\n",
       "    <tr>\n",
       "      <th>3</th>\n",
       "      <td>Есть интересные сериалы и фильмы Ну что сказат...</td>\n",
       "      <td>4</td>\n",
       "      <td>Mikhail MD</td>\n",
       "      <td>positive</td>\n",
       "    </tr>\n",
       "    <tr>\n",
       "      <th>4</th>\n",
       "      <td>Это не кино Дважды пытались воспользоваться ус...</td>\n",
       "      <td>1</td>\n",
       "      <td>Андрей 121</td>\n",
       "      <td>negative</td>\n",
       "    </tr>\n",
       "  </tbody>\n",
       "</table>\n",
       "</div>"
      ],
      "text/plain": [
       "                                             comment  rating    username  \\\n",
       "0  Удобный Когда-то оформлял подписку на Netflix,...       5   Nilufar01   \n",
       "1  лучший онлайн-кинотеатр Я уже несколько лет по...       5     mokakoi   \n",
       "2  Очень крутое приложение Подписку нам подарила ...       5     MiraMAV   \n",
       "3  Есть интересные сериалы и фильмы Ну что сказат...       4  Mikhail MD   \n",
       "4  Это не кино Дважды пытались воспользоваться ус...       1  Андрей 121   \n",
       "\n",
       "  user_evaluation  \n",
       "0        positive  \n",
       "1        positive  \n",
       "2        positive  \n",
       "3        positive  \n",
       "4        negative  "
      ]
     },
     "execution_count": 44,
     "metadata": {},
     "output_type": "execute_result"
    }
   ],
   "source": [
    "df_tt = pd.read_csv('comment_lebel.csv', engine='python', encoding='utf-8', on_bad_lines=\"skip\", encoding_errors=\"ignore\")\n",
    "df_tt.head()"
   ]
  },
  {
   "cell_type": "markdown",
   "id": "cca47949-6cd4-4e2b-90d8-4bfc1ae8648b",
   "metadata": {},
   "source": [
    "Мы провели ручную разметку нашего датасете. Посмотрим на результат.\n"
   ]
  },
  {
   "cell_type": "code",
   "execution_count": 45,
   "id": "6ac7d070-e7cb-4445-b94f-e8fa2b9a9d3c",
   "metadata": {},
   "outputs": [
    {
     "data": {
      "text/html": [
       "<div>\n",
       "<style scoped>\n",
       "    .dataframe tbody tr th:only-of-type {\n",
       "        vertical-align: middle;\n",
       "    }\n",
       "\n",
       "    .dataframe tbody tr th {\n",
       "        vertical-align: top;\n",
       "    }\n",
       "\n",
       "    .dataframe thead th {\n",
       "        text-align: right;\n",
       "    }\n",
       "</style>\n",
       "<table border=\"1\" class=\"dataframe\">\n",
       "  <thead>\n",
       "    <tr style=\"text-align: right;\">\n",
       "      <th></th>\n",
       "      <th>annotation_id</th>\n",
       "      <th>annotator</th>\n",
       "      <th>comment</th>\n",
       "      <th>created_at</th>\n",
       "      <th>id</th>\n",
       "      <th>lead_time</th>\n",
       "      <th>rating</th>\n",
       "      <th>sentiment</th>\n",
       "      <th>updated_at</th>\n",
       "      <th>user_evaluation</th>\n",
       "      <th>username</th>\n",
       "    </tr>\n",
       "  </thead>\n",
       "  <tbody>\n",
       "    <tr>\n",
       "      <th>0</th>\n",
       "      <td>1</td>\n",
       "      <td>1</td>\n",
       "      <td>Удобный Когда-то оформлял подписку на Netflix,...</td>\n",
       "      <td>2024-06-09T17:45:06.395006Z</td>\n",
       "      <td>1</td>\n",
       "      <td>8.041</td>\n",
       "      <td>5</td>\n",
       "      <td>Positive</td>\n",
       "      <td>2024-06-09T17:45:06.395006Z</td>\n",
       "      <td>positive</td>\n",
       "      <td>Nilufar01</td>\n",
       "    </tr>\n",
       "    <tr>\n",
       "      <th>1</th>\n",
       "      <td>2</td>\n",
       "      <td>1</td>\n",
       "      <td>лучший онлайн-кинотеатр Я уже несколько лет по...</td>\n",
       "      <td>2024-06-09T17:45:39.458237Z</td>\n",
       "      <td>2</td>\n",
       "      <td>4.069</td>\n",
       "      <td>5</td>\n",
       "      <td>Positive</td>\n",
       "      <td>2024-06-09T17:45:39.458237Z</td>\n",
       "      <td>positive</td>\n",
       "      <td>mokakoi</td>\n",
       "    </tr>\n",
       "    <tr>\n",
       "      <th>2</th>\n",
       "      <td>3</td>\n",
       "      <td>1</td>\n",
       "      <td>Очень крутое приложение Подписку нам подарила ...</td>\n",
       "      <td>2024-06-09T17:46:50.171812Z</td>\n",
       "      <td>3</td>\n",
       "      <td>21.534</td>\n",
       "      <td>5</td>\n",
       "      <td>Positive</td>\n",
       "      <td>2024-06-09T17:46:50.171812Z</td>\n",
       "      <td>positive</td>\n",
       "      <td>MiraMAV</td>\n",
       "    </tr>\n",
       "    <tr>\n",
       "      <th>3</th>\n",
       "      <td>4</td>\n",
       "      <td>1</td>\n",
       "      <td>Есть интересные сериалы и фильмы Ну что сказат...</td>\n",
       "      <td>2024-06-09T17:46:54.566653Z</td>\n",
       "      <td>4</td>\n",
       "      <td>1.866</td>\n",
       "      <td>4</td>\n",
       "      <td>Positive</td>\n",
       "      <td>2024-06-09T17:46:54.566653Z</td>\n",
       "      <td>positive</td>\n",
       "      <td>Mikhail MD</td>\n",
       "    </tr>\n",
       "    <tr>\n",
       "      <th>4</th>\n",
       "      <td>5</td>\n",
       "      <td>1</td>\n",
       "      <td>Это не кино Дважды пытались воспользоваться ус...</td>\n",
       "      <td>2024-06-09T17:47:01.435783Z</td>\n",
       "      <td>5</td>\n",
       "      <td>10.772</td>\n",
       "      <td>1</td>\n",
       "      <td>Negative</td>\n",
       "      <td>2024-06-09T17:47:01.435783Z</td>\n",
       "      <td>negative</td>\n",
       "      <td>Андрей 121</td>\n",
       "    </tr>\n",
       "  </tbody>\n",
       "</table>\n",
       "</div>"
      ],
      "text/plain": [
       "   annotation_id  annotator  \\\n",
       "0              1          1   \n",
       "1              2          1   \n",
       "2              3          1   \n",
       "3              4          1   \n",
       "4              5          1   \n",
       "\n",
       "                                             comment  \\\n",
       "0  Удобный Когда-то оформлял подписку на Netflix,...   \n",
       "1  лучший онлайн-кинотеатр Я уже несколько лет по...   \n",
       "2  Очень крутое приложение Подписку нам подарила ...   \n",
       "3  Есть интересные сериалы и фильмы Ну что сказат...   \n",
       "4  Это не кино Дважды пытались воспользоваться ус...   \n",
       "\n",
       "                    created_at  id  lead_time  rating sentiment  \\\n",
       "0  2024-06-09T17:45:06.395006Z   1      8.041       5  Positive   \n",
       "1  2024-06-09T17:45:39.458237Z   2      4.069       5  Positive   \n",
       "2  2024-06-09T17:46:50.171812Z   3     21.534       5  Positive   \n",
       "3  2024-06-09T17:46:54.566653Z   4      1.866       4  Positive   \n",
       "4  2024-06-09T17:47:01.435783Z   5     10.772       1  Negative   \n",
       "\n",
       "                    updated_at user_evaluation    username  \n",
       "0  2024-06-09T17:45:06.395006Z        positive   Nilufar01  \n",
       "1  2024-06-09T17:45:39.458237Z        positive     mokakoi  \n",
       "2  2024-06-09T17:46:50.171812Z        positive     MiraMAV  \n",
       "3  2024-06-09T17:46:54.566653Z        positive  Mikhail MD  \n",
       "4  2024-06-09T17:47:01.435783Z        negative  Андрей 121  "
      ]
     },
     "execution_count": 45,
     "metadata": {},
     "output_type": "execute_result"
    }
   ],
   "source": [
    "df_leb_st = pd.read_csv('project1.csv', engine='python', encoding='utf-8', on_bad_lines=\"skip\", encoding_errors=\"ignore\")\n",
    "df_leb_st.head()"
   ]
  },
  {
   "cell_type": "code",
   "execution_count": 46,
   "id": "fbd995ea-26b8-48c2-8cf6-21145a934861",
   "metadata": {},
   "outputs": [
    {
     "name": "stdout",
     "output_type": "stream",
     "text": [
      "<class 'pandas.core.frame.DataFrame'>\n",
      "RangeIndex: 64 entries, 0 to 63\n",
      "Data columns (total 5 columns):\n",
      " #   Column           Non-Null Count  Dtype \n",
      "---  ------           --------------  ----- \n",
      " 0   comment          64 non-null     object\n",
      " 1   rating           64 non-null     int64 \n",
      " 2   sentiment        64 non-null     object\n",
      " 3   user_evaluation  64 non-null     object\n",
      " 4   username         64 non-null     object\n",
      "dtypes: int64(1), object(4)\n",
      "memory usage: 2.6+ KB\n"
     ]
    }
   ],
   "source": [
    "# Label Studio добавила нам несколько столбцоы не нужных данных, потому оставим только столбец sentiment\t\n",
    "df_leb_st = df_leb_st.drop(columns=['annotation_id', 'annotator', 'created_at', 'id','lead_time','updated_at'])\n",
    "df_leb_st.info()"
   ]
  },
  {
   "cell_type": "code",
   "execution_count": 51,
   "id": "0b45464b-5b9b-410a-ae3c-e65ea0b735c8",
   "metadata": {},
   "outputs": [
    {
     "name": "stdout",
     "output_type": "stream",
     "text": [
      "<class 'pandas.core.frame.DataFrame'>\n",
      "Index: 322 entries, 0 to 136\n",
      "Data columns (total 5 columns):\n",
      " #   Column           Non-Null Count  Dtype \n",
      "---  ------           --------------  ----- \n",
      " 0   comment          322 non-null    object\n",
      " 1   rating           322 non-null    int64 \n",
      " 2   sentiment        322 non-null    object\n",
      " 3   user_evaluation  322 non-null    object\n",
      " 4   username         322 non-null    object\n",
      "dtypes: int64(1), object(4)\n",
      "memory usage: 15.1+ KB\n"
     ]
    }
   ],
   "source": [
    "# По условию задачи нам нужно объединить датасет размеченный вручную с датасетом без разметки.\n",
    "# pd.concat([df1, df2]).fillna(0)\n",
    "all_comments = pd.concat([df_leb_st, unlabel_df]).fillna(0)\n",
    "all_comments.info()"
   ]
  },
  {
   "cell_type": "code",
   "execution_count": 69,
   "id": "9166e13c-6ee8-4564-b714-24ce1bbc2026",
   "metadata": {},
   "outputs": [
    {
     "data": {
      "text/html": [
       "<div>\n",
       "<style scoped>\n",
       "    .dataframe tbody tr th:only-of-type {\n",
       "        vertical-align: middle;\n",
       "    }\n",
       "\n",
       "    .dataframe tbody tr th {\n",
       "        vertical-align: top;\n",
       "    }\n",
       "\n",
       "    .dataframe thead th {\n",
       "        text-align: right;\n",
       "    }\n",
       "</style>\n",
       "<table border=\"1\" class=\"dataframe\">\n",
       "  <thead>\n",
       "    <tr style=\"text-align: right;\">\n",
       "      <th></th>\n",
       "      <th>comment</th>\n",
       "      <th>rating</th>\n",
       "      <th>sentiment</th>\n",
       "      <th>user_evaluation</th>\n",
       "      <th>username</th>\n",
       "    </tr>\n",
       "  </thead>\n",
       "  <tbody>\n",
       "    <tr>\n",
       "      <th>0</th>\n",
       "      <td>Удобный Когда-то оформлял подписку на Netflix,...</td>\n",
       "      <td>5</td>\n",
       "      <td>Positive</td>\n",
       "      <td>positive</td>\n",
       "      <td>Nilufar01</td>\n",
       "    </tr>\n",
       "    <tr>\n",
       "      <th>1</th>\n",
       "      <td>лучший онлайн-кинотеатр Я уже несколько лет по...</td>\n",
       "      <td>5</td>\n",
       "      <td>Positive</td>\n",
       "      <td>positive</td>\n",
       "      <td>mokakoi</td>\n",
       "    </tr>\n",
       "    <tr>\n",
       "      <th>2</th>\n",
       "      <td>Очень крутое приложение Подписку нам подарила ...</td>\n",
       "      <td>5</td>\n",
       "      <td>Positive</td>\n",
       "      <td>positive</td>\n",
       "      <td>MiraMAV</td>\n",
       "    </tr>\n",
       "    <tr>\n",
       "      <th>3</th>\n",
       "      <td>Есть интересные сериалы и фильмы Ну что сказат...</td>\n",
       "      <td>4</td>\n",
       "      <td>Positive</td>\n",
       "      <td>positive</td>\n",
       "      <td>Mikhail MD</td>\n",
       "    </tr>\n",
       "    <tr>\n",
       "      <th>4</th>\n",
       "      <td>Это не кино Дважды пытались воспользоваться ус...</td>\n",
       "      <td>1</td>\n",
       "      <td>Negative</td>\n",
       "      <td>negative</td>\n",
       "      <td>Андрей 121</td>\n",
       "    </tr>\n",
       "    <tr>\n",
       "      <th>...</th>\n",
       "      <td>...</td>\n",
       "      <td>...</td>\n",
       "      <td>...</td>\n",
       "      <td>...</td>\n",
       "      <td>...</td>\n",
       "    </tr>\n",
       "    <tr>\n",
       "      <th>268</th>\n",
       "      <td>Лучшая платформа с фильмами и тд! Я недавно на...</td>\n",
       "      <td>5</td>\n",
       "      <td>0</td>\n",
       "      <td>positive</td>\n",
       "      <td>Кирилл 3131</td>\n",
       "    </tr>\n",
       "    <tr>\n",
       "      <th>97</th>\n",
       "      <td>Замечательный сервис Из всех мною ранее юзаных...</td>\n",
       "      <td>5</td>\n",
       "      <td>0</td>\n",
       "      <td>positive</td>\n",
       "      <td>CEOSAFAR</td>\n",
       "    </tr>\n",
       "    <tr>\n",
       "      <th>10</th>\n",
       "      <td>Неправильное пояснение при оплате Я просто реш...</td>\n",
       "      <td>1</td>\n",
       "      <td>0</td>\n",
       "      <td>negative</td>\n",
       "      <td>kommentator30067</td>\n",
       "    </tr>\n",
       "    <tr>\n",
       "      <th>230</th>\n",
       "      <td>Отличная вещь -советую Много и долго описывать...</td>\n",
       "      <td>5</td>\n",
       "      <td>0</td>\n",
       "      <td>positive</td>\n",
       "      <td>Anatolich94</td>\n",
       "    </tr>\n",
       "    <tr>\n",
       "      <th>15</th>\n",
       "      <td>Большой выбор фильмов Пользуюсь Netflix уже не...</td>\n",
       "      <td>4</td>\n",
       "      <td>0</td>\n",
       "      <td>positive</td>\n",
       "      <td>Mrs Courtney</td>\n",
       "    </tr>\n",
       "  </tbody>\n",
       "</table>\n",
       "<p>70 rows × 5 columns</p>\n",
       "</div>"
      ],
      "text/plain": [
       "                                               comment  rating sentiment  \\\n",
       "0    Удобный Когда-то оформлял подписку на Netflix,...       5  Positive   \n",
       "1    лучший онлайн-кинотеатр Я уже несколько лет по...       5  Positive   \n",
       "2    Очень крутое приложение Подписку нам подарила ...       5  Positive   \n",
       "3    Есть интересные сериалы и фильмы Ну что сказат...       4  Positive   \n",
       "4    Это не кино Дважды пытались воспользоваться ус...       1  Negative   \n",
       "..                                                 ...     ...       ...   \n",
       "268  Лучшая платформа с фильмами и тд! Я недавно на...       5         0   \n",
       "97   Замечательный сервис Из всех мною ранее юзаных...       5         0   \n",
       "10   Неправильное пояснение при оплате Я просто реш...       1         0   \n",
       "230  Отличная вещь -советую Много и долго описывать...       5         0   \n",
       "15   Большой выбор фильмов Пользуюсь Netflix уже не...       4         0   \n",
       "\n",
       "    user_evaluation          username  \n",
       "0          positive         Nilufar01  \n",
       "1          positive           mokakoi  \n",
       "2          positive           MiraMAV  \n",
       "3          positive        Mikhail MD  \n",
       "4          negative        Андрей 121  \n",
       "..              ...               ...  \n",
       "268        positive       Кирилл 3131  \n",
       "97         positive          CEOSAFAR  \n",
       "10         negative  kommentator30067  \n",
       "230        positive       Anatolich94  \n",
       "15         positive      Mrs Courtney  \n",
       "\n",
       "[70 rows x 5 columns]"
      ]
     },
     "execution_count": 69,
     "metadata": {},
     "output_type": "execute_result"
    }
   ],
   "source": [
    "all_comments.head(70)"
   ]
  },
  {
   "cell_type": "markdown",
   "id": "004d8cef-e112-4df0-a475-898f156e17b7",
   "metadata": {},
   "source": [
    "По условиям задания нам нужно обучить модель для атоматической разметки данных на основе данных размеченных вручную. Для этозаменим категории данных оценки на 0 и 1."
   ]
  },
  {
   "cell_type": "code",
   "execution_count": 72,
   "id": "f1644213-771a-447f-b7ed-378199347caf",
   "metadata": {},
   "outputs": [
    {
     "name": "stderr",
     "output_type": "stream",
     "text": [
      "C:\\Users\\Лина\\AppData\\Local\\Temp\\ipykernel_9516\\2544766404.py:2: FutureWarning: Downcasting behavior in `replace` is deprecated and will be removed in a future version. To retain the old behavior, explicitly call `result.infer_objects(copy=False)`. To opt-in to the future behavior, set `pd.set_option('future.no_silent_downcasting', True)`\n",
      "  educational['sentiment'] = educational['sentiment'].replace({'Negative': 0, 'Positive': 1})\n"
     ]
    }
   ],
   "source": [
    "educational = df_leb_st\n",
    "educational['sentiment'] = educational['sentiment'].replace({'Negative': 0, 'Positive': 1})"
   ]
  },
  {
   "cell_type": "code",
   "execution_count": 73,
   "id": "3c9d1962-5f16-4d7c-b080-8dec8708c2e4",
   "metadata": {},
   "outputs": [
    {
     "data": {
      "text/html": [
       "<div>\n",
       "<style scoped>\n",
       "    .dataframe tbody tr th:only-of-type {\n",
       "        vertical-align: middle;\n",
       "    }\n",
       "\n",
       "    .dataframe tbody tr th {\n",
       "        vertical-align: top;\n",
       "    }\n",
       "\n",
       "    .dataframe thead th {\n",
       "        text-align: right;\n",
       "    }\n",
       "</style>\n",
       "<table border=\"1\" class=\"dataframe\">\n",
       "  <thead>\n",
       "    <tr style=\"text-align: right;\">\n",
       "      <th></th>\n",
       "      <th>comment</th>\n",
       "      <th>rating</th>\n",
       "      <th>sentiment</th>\n",
       "      <th>user_evaluation</th>\n",
       "      <th>username</th>\n",
       "    </tr>\n",
       "  </thead>\n",
       "  <tbody>\n",
       "    <tr>\n",
       "      <th>0</th>\n",
       "      <td>Удобный Когда-то оформлял подписку на Netflix,...</td>\n",
       "      <td>5</td>\n",
       "      <td>1</td>\n",
       "      <td>positive</td>\n",
       "      <td>Nilufar01</td>\n",
       "    </tr>\n",
       "    <tr>\n",
       "      <th>1</th>\n",
       "      <td>лучший онлайн-кинотеатр Я уже несколько лет по...</td>\n",
       "      <td>5</td>\n",
       "      <td>1</td>\n",
       "      <td>positive</td>\n",
       "      <td>mokakoi</td>\n",
       "    </tr>\n",
       "    <tr>\n",
       "      <th>2</th>\n",
       "      <td>Очень крутое приложение Подписку нам подарила ...</td>\n",
       "      <td>5</td>\n",
       "      <td>1</td>\n",
       "      <td>positive</td>\n",
       "      <td>MiraMAV</td>\n",
       "    </tr>\n",
       "    <tr>\n",
       "      <th>3</th>\n",
       "      <td>Есть интересные сериалы и фильмы Ну что сказат...</td>\n",
       "      <td>4</td>\n",
       "      <td>1</td>\n",
       "      <td>positive</td>\n",
       "      <td>Mikhail MD</td>\n",
       "    </tr>\n",
       "    <tr>\n",
       "      <th>4</th>\n",
       "      <td>Это не кино Дважды пытались воспользоваться ус...</td>\n",
       "      <td>1</td>\n",
       "      <td>0</td>\n",
       "      <td>negative</td>\n",
       "      <td>Андрей 121</td>\n",
       "    </tr>\n",
       "  </tbody>\n",
       "</table>\n",
       "</div>"
      ],
      "text/plain": [
       "                                             comment  rating  sentiment  \\\n",
       "0  Удобный Когда-то оформлял подписку на Netflix,...       5          1   \n",
       "1  лучший онлайн-кинотеатр Я уже несколько лет по...       5          1   \n",
       "2  Очень крутое приложение Подписку нам подарила ...       5          1   \n",
       "3  Есть интересные сериалы и фильмы Ну что сказат...       4          1   \n",
       "4  Это не кино Дважды пытались воспользоваться ус...       1          0   \n",
       "\n",
       "  user_evaluation    username  \n",
       "0        positive   Nilufar01  \n",
       "1        positive     mokakoi  \n",
       "2        positive     MiraMAV  \n",
       "3        positive  Mikhail MD  \n",
       "4        negative  Андрей 121  "
      ]
     },
     "execution_count": 73,
     "metadata": {},
     "output_type": "execute_result"
    }
   ],
   "source": [
    "educational.head()"
   ]
  },
  {
   "cell_type": "code",
   "execution_count": 54,
   "id": "855fcc0f-0925-4342-b409-c682c2569ca0",
   "metadata": {},
   "outputs": [],
   "source": [
    "def train_model(df):\n",
    "    # Векторизация текстовых данных с помощью TF-IDF\n",
    "    vectorizer = TfidfVectorizer()\n",
    "    X = vectorizer.fit_transform(df['comment'])\n",
    "    y = df['sentiment']\n",
    "\n",
    "    # Обучение модели логистической регрессии на размеченных данных\n",
    "    model = LogisticRegression()\n",
    "    model.fit(X, y)\n",
    "\n",
    "    return model, vectorizer"
   ]
  },
  {
   "cell_type": "code",
   "execution_count": 74,
   "id": "a8b37264-3033-4165-837a-0943db9e2f4f",
   "metadata": {},
   "outputs": [],
   "source": [
    "model, vectorizer = train_model(educational)"
   ]
  },
  {
   "cell_type": "code",
   "execution_count": 75,
   "id": "904e842d-4875-4877-a0e1-84104a12ba4f",
   "metadata": {},
   "outputs": [],
   "source": [
    "X_unlabeled = vectorizer.transform(unlabel_df['comment'])\n",
    "y_unlabeled_predicted = model.predict(X_unlabeled)"
   ]
  },
  {
   "cell_type": "code",
   "execution_count": 76,
   "id": "54cb6a48-935f-4424-9c4f-23d1e3c61dc3",
   "metadata": {},
   "outputs": [],
   "source": [
    "y_unlabeled_proba = model.predict_proba(X_unlabeled)\n",
    "uncertainty = -(y_unlabeled_proba * np.log2(y_unlabeled_proba)).sum(axis=1)"
   ]
  },
  {
   "cell_type": "code",
   "execution_count": 77,
   "id": "45ca2426-2234-4b6a-b3d4-bc7fdc8f132e",
   "metadata": {},
   "outputs": [],
   "source": [
    "labeled_reviews_new = unlabel_df.iloc[uncertainty.argsort()[:30]]\n",
    "unlabeled_reviews_new = unlabel_df.iloc[uncertainty.argsort()[30:]]"
   ]
  },
  {
   "cell_type": "code",
   "execution_count": 78,
   "id": "e9903244-4394-4cbf-83ef-cdf777698621",
   "metadata": {},
   "outputs": [],
   "source": [
    "labeled_reviews = pd.concat([df_leb_st, labeled_reviews_new])"
   ]
  },
  {
   "cell_type": "code",
   "execution_count": 79,
   "id": "bd925c17-5be5-4181-a605-51300bd60399",
   "metadata": {},
   "outputs": [
    {
     "data": {
      "text/html": [
       "<div>\n",
       "<style scoped>\n",
       "    .dataframe tbody tr th:only-of-type {\n",
       "        vertical-align: middle;\n",
       "    }\n",
       "\n",
       "    .dataframe tbody tr th {\n",
       "        vertical-align: top;\n",
       "    }\n",
       "\n",
       "    .dataframe thead th {\n",
       "        text-align: right;\n",
       "    }\n",
       "</style>\n",
       "<table border=\"1\" class=\"dataframe\">\n",
       "  <thead>\n",
       "    <tr style=\"text-align: right;\">\n",
       "      <th></th>\n",
       "      <th>comment</th>\n",
       "      <th>rating</th>\n",
       "      <th>sentiment</th>\n",
       "      <th>user_evaluation</th>\n",
       "      <th>username</th>\n",
       "    </tr>\n",
       "  </thead>\n",
       "  <tbody>\n",
       "    <tr>\n",
       "      <th>0</th>\n",
       "      <td>Удобный Когда-то оформлял подписку на Netflix,...</td>\n",
       "      <td>5</td>\n",
       "      <td>1.0</td>\n",
       "      <td>positive</td>\n",
       "      <td>Nilufar01</td>\n",
       "    </tr>\n",
       "    <tr>\n",
       "      <th>1</th>\n",
       "      <td>лучший онлайн-кинотеатр Я уже несколько лет по...</td>\n",
       "      <td>5</td>\n",
       "      <td>1.0</td>\n",
       "      <td>positive</td>\n",
       "      <td>mokakoi</td>\n",
       "    </tr>\n",
       "    <tr>\n",
       "      <th>2</th>\n",
       "      <td>Очень крутое приложение Подписку нам подарила ...</td>\n",
       "      <td>5</td>\n",
       "      <td>1.0</td>\n",
       "      <td>positive</td>\n",
       "      <td>MiraMAV</td>\n",
       "    </tr>\n",
       "    <tr>\n",
       "      <th>3</th>\n",
       "      <td>Есть интересные сериалы и фильмы Ну что сказат...</td>\n",
       "      <td>4</td>\n",
       "      <td>1.0</td>\n",
       "      <td>positive</td>\n",
       "      <td>Mikhail MD</td>\n",
       "    </tr>\n",
       "    <tr>\n",
       "      <th>4</th>\n",
       "      <td>Это не кино Дважды пытались воспользоваться ус...</td>\n",
       "      <td>1</td>\n",
       "      <td>0.0</td>\n",
       "      <td>negative</td>\n",
       "      <td>Андрей 121</td>\n",
       "    </tr>\n",
       "    <tr>\n",
       "      <th>...</th>\n",
       "      <td>...</td>\n",
       "      <td>...</td>\n",
       "      <td>...</td>\n",
       "      <td>...</td>\n",
       "      <td>...</td>\n",
       "    </tr>\n",
       "    <tr>\n",
       "      <th>143</th>\n",
       "      <td>Netflix – это идеальное место для всех киноман...</td>\n",
       "      <td>5</td>\n",
       "      <td>NaN</td>\n",
       "      <td>positive</td>\n",
       "      <td>Loldlold</td>\n",
       "    </tr>\n",
       "    <tr>\n",
       "      <th>221</th>\n",
       "      <td>Лучшее место для просмотра сериалов и фильмов ...</td>\n",
       "      <td>5</td>\n",
       "      <td>NaN</td>\n",
       "      <td>positive</td>\n",
       "      <td>Sm1len</td>\n",
       "    </tr>\n",
       "    <tr>\n",
       "      <th>124</th>\n",
       "      <td>Лучший онлайн-кинотеатр года! Netflix - это пр...</td>\n",
       "      <td>5</td>\n",
       "      <td>NaN</td>\n",
       "      <td>positive</td>\n",
       "      <td>Анастасия Гурман</td>\n",
       "    </tr>\n",
       "    <tr>\n",
       "      <th>193</th>\n",
       "      <td>Много сериалов Доброго времени суток! Netflix ...</td>\n",
       "      <td>5</td>\n",
       "      <td>NaN</td>\n",
       "      <td>positive</td>\n",
       "      <td>Sveta298</td>\n",
       "    </tr>\n",
       "    <tr>\n",
       "      <th>179</th>\n",
       "      <td>Качество отличное и много фильмов Недавно подк...</td>\n",
       "      <td>5</td>\n",
       "      <td>NaN</td>\n",
       "      <td>positive</td>\n",
       "      <td>Adilya99</td>\n",
       "    </tr>\n",
       "  </tbody>\n",
       "</table>\n",
       "<p>94 rows × 5 columns</p>\n",
       "</div>"
      ],
      "text/plain": [
       "                                               comment  rating  sentiment  \\\n",
       "0    Удобный Когда-то оформлял подписку на Netflix,...       5        1.0   \n",
       "1    лучший онлайн-кинотеатр Я уже несколько лет по...       5        1.0   \n",
       "2    Очень крутое приложение Подписку нам подарила ...       5        1.0   \n",
       "3    Есть интересные сериалы и фильмы Ну что сказат...       4        1.0   \n",
       "4    Это не кино Дважды пытались воспользоваться ус...       1        0.0   \n",
       "..                                                 ...     ...        ...   \n",
       "143  Netflix – это идеальное место для всех киноман...       5        NaN   \n",
       "221  Лучшее место для просмотра сериалов и фильмов ...       5        NaN   \n",
       "124  Лучший онлайн-кинотеатр года! Netflix - это пр...       5        NaN   \n",
       "193  Много сериалов Доброго времени суток! Netflix ...       5        NaN   \n",
       "179  Качество отличное и много фильмов Недавно подк...       5        NaN   \n",
       "\n",
       "    user_evaluation          username  \n",
       "0          positive         Nilufar01  \n",
       "1          positive           mokakoi  \n",
       "2          positive           MiraMAV  \n",
       "3          positive        Mikhail MD  \n",
       "4          negative        Андрей 121  \n",
       "..              ...               ...  \n",
       "143        positive          Loldlold  \n",
       "221        positive            Sm1len  \n",
       "124        positive  Анастасия Гурман  \n",
       "193        positive          Sveta298  \n",
       "179        positive          Adilya99  \n",
       "\n",
       "[94 rows x 5 columns]"
      ]
     },
     "execution_count": 79,
     "metadata": {},
     "output_type": "execute_result"
    }
   ],
   "source": [
    "labeled_reviews.head(94)"
   ]
  },
  {
   "cell_type": "markdown",
   "id": "88811fc0-b6ee-457c-80ad-20c67a785175",
   "metadata": {},
   "source": [
    "К сожалению результат обучения не удовлетворительный. Возможно причина снова в способности методов работатьс русским языком. Попробуем выполнить задачу на других данных."
   ]
  },
  {
   "cell_type": "code",
   "execution_count": 85,
   "id": "c36fcb1b-2416-4faf-9d4f-35466bd33dd7",
   "metadata": {},
   "outputs": [
    {
     "data": {
      "text/html": [
       "<div>\n",
       "<style scoped>\n",
       "    .dataframe tbody tr th:only-of-type {\n",
       "        vertical-align: middle;\n",
       "    }\n",
       "\n",
       "    .dataframe tbody tr th {\n",
       "        vertical-align: top;\n",
       "    }\n",
       "\n",
       "    .dataframe thead th {\n",
       "        text-align: right;\n",
       "    }\n",
       "</style>\n",
       "<table border=\"1\" class=\"dataframe\">\n",
       "  <thead>\n",
       "    <tr style=\"text-align: right;\">\n",
       "      <th></th>\n",
       "      <th>text</th>\n",
       "      <th>label</th>\n",
       "    </tr>\n",
       "  </thead>\n",
       "  <tbody>\n",
       "    <tr>\n",
       "      <th>0</th>\n",
       "      <td>I grew up (b. 1965) watching and loving the Th...</td>\n",
       "      <td>0</td>\n",
       "    </tr>\n",
       "    <tr>\n",
       "      <th>1</th>\n",
       "      <td>When I put this movie in my DVD player, and sa...</td>\n",
       "      <td>0</td>\n",
       "    </tr>\n",
       "    <tr>\n",
       "      <th>2</th>\n",
       "      <td>Why do people who do not know what a particula...</td>\n",
       "      <td>0</td>\n",
       "    </tr>\n",
       "    <tr>\n",
       "      <th>3</th>\n",
       "      <td>Even though I have great interest in Biblical ...</td>\n",
       "      <td>0</td>\n",
       "    </tr>\n",
       "    <tr>\n",
       "      <th>4</th>\n",
       "      <td>Im a die hard Dads Army fan and nothing will e...</td>\n",
       "      <td>1</td>\n",
       "    </tr>\n",
       "    <tr>\n",
       "      <th>5</th>\n",
       "      <td>A terrible movie as everyone has said. What ma...</td>\n",
       "      <td>0</td>\n",
       "    </tr>\n",
       "    <tr>\n",
       "      <th>6</th>\n",
       "      <td>Finally watched this shocking movie last night...</td>\n",
       "      <td>1</td>\n",
       "    </tr>\n",
       "    <tr>\n",
       "      <th>7</th>\n",
       "      <td>I caught this film on AZN on cable. It sounded...</td>\n",
       "      <td>0</td>\n",
       "    </tr>\n",
       "    <tr>\n",
       "      <th>8</th>\n",
       "      <td>It may be the remake of 1987 Autumn's Tale aft...</td>\n",
       "      <td>1</td>\n",
       "    </tr>\n",
       "    <tr>\n",
       "      <th>9</th>\n",
       "      <td>My Super Ex Girlfriend turned out to be a plea...</td>\n",
       "      <td>1</td>\n",
       "    </tr>\n",
       "  </tbody>\n",
       "</table>\n",
       "</div>"
      ],
      "text/plain": [
       "                                                text  label\n",
       "0  I grew up (b. 1965) watching and loving the Th...      0\n",
       "1  When I put this movie in my DVD player, and sa...      0\n",
       "2  Why do people who do not know what a particula...      0\n",
       "3  Even though I have great interest in Biblical ...      0\n",
       "4  Im a die hard Dads Army fan and nothing will e...      1\n",
       "5  A terrible movie as everyone has said. What ma...      0\n",
       "6  Finally watched this shocking movie last night...      1\n",
       "7  I caught this film on AZN on cable. It sounded...      0\n",
       "8  It may be the remake of 1987 Autumn's Tale aft...      1\n",
       "9  My Super Ex Girlfriend turned out to be a plea...      1"
      ]
     },
     "execution_count": 85,
     "metadata": {},
     "output_type": "execute_result"
    }
   ],
   "source": [
    "df = pd.read_csv('lec/movie.csv', engine='python', encoding='utf-8', on_bad_lines=\"skip\", encoding_errors=\"ignore\")\n",
    "df.head(10)\n"
   ]
  },
  {
   "cell_type": "code",
   "execution_count": 86,
   "id": "cfde0d37-7f0d-46e9-a6b2-4e944fba66da",
   "metadata": {},
   "outputs": [],
   "source": [
    "test_df = df. copy()"
   ]
  },
  {
   "cell_type": "code",
   "execution_count": 92,
   "id": "7caeaf3a-7564-41af-a121-b446a482ed5b",
   "metadata": {},
   "outputs": [
    {
     "name": "stdout",
     "output_type": "stream",
     "text": [
      "<class 'pandas.core.frame.DataFrame'>\n",
      "RangeIndex: 40000 entries, 0 to 39999\n",
      "Data columns (total 2 columns):\n",
      " #   Column  Non-Null Count  Dtype \n",
      "---  ------  --------------  ----- \n",
      " 0   text    40000 non-null  object\n",
      " 1   label   40000 non-null  int64 \n",
      "dtypes: int64(1), object(1)\n",
      "memory usage: 625.1+ KB\n"
     ]
    }
   ],
   "source": [
    "test_df.info()"
   ]
  },
  {
   "cell_type": "code",
   "execution_count": 93,
   "id": "54e136e1-7c76-4041-be53-f7132313f6be",
   "metadata": {},
   "outputs": [],
   "source": [
    "def train_model_en(df):\n",
    "    # Векторизация текстовых данных с помощью TF-IDF\n",
    "    vectorizer = TfidfVectorizer()\n",
    "    X = vectorizer.fit_transform(df['text'])\n",
    "    y = df['label']\n",
    "\n",
    "    # Обучение модели логистической регрессии на размеченных данных\n",
    "    model = LogisticRegression()\n",
    "    model.fit(X, y)\n",
    "\n",
    "    return model, vectorizer"
   ]
  },
  {
   "cell_type": "code",
   "execution_count": 94,
   "id": "d4320a14-d9c2-4e0a-8edf-058da91e52b3",
   "metadata": {},
   "outputs": [],
   "source": [
    "reviews = shuffle(test_df)\n",
    "labeled, unlabeled = train_test_split(test_df, train_size=0.2, random_state=15)\n",
    "unlabeled.head()"
   ]
  },
  {
   "cell_type": "code",
   "execution_count": 105,
   "id": "42f73b8b-f673-4133-a6c5-617e9deac0c4",
   "metadata": {},
   "outputs": [],
   "source": [
    "model, vectorizer = train_model_en(labeled)"
   ]
  },
  {
   "cell_type": "code",
   "execution_count": 95,
   "id": "01b9fbff-e092-4af0-9ee6-50f8adf1374f",
   "metadata": {},
   "outputs": [],
   "source": [
    "X_unlabeled = vectorizer.transform(unlabeled['text'])\n",
    "y_unlabeled_predicted = model.predict(X_unlabeled)\n",
    "y_unlabeled_proba = model.predict_proba(X_unlabeled)\n",
    "uncertainty = -(y_unlabeled_proba * np.log2(y_unlabeled_proba)).sum(axis=1)"
   ]
  },
  {
   "cell_type": "code",
   "execution_count": 107,
   "id": "db8c6cc9-97f1-4302-a802-529e9665f56a",
   "metadata": {},
   "outputs": [],
   "source": [
    "labeled_reviews_new = unlabeled.iloc[uncertainty.argsort()[:100]]\n",
    "unlabeled_reviews_new = unlabeled.iloc[uncertainty.argsort()[100:]]"
   ]
  },
  {
   "cell_type": "code",
   "execution_count": 110,
   "id": "010c94e1-e861-47ba-9e33-24f620a65413",
   "metadata": {},
   "outputs": [
    {
     "name": "stdout",
     "output_type": "stream",
     "text": [
      "<class 'pandas.core.frame.DataFrame'>\n",
      "Index: 100 entries, 21449 to 2839\n",
      "Data columns (total 2 columns):\n",
      " #   Column  Non-Null Count  Dtype \n",
      "---  ------  --------------  ----- \n",
      " 0   text    100 non-null    object\n",
      " 1   label   100 non-null    int64 \n",
      "dtypes: int64(1), object(1)\n",
      "memory usage: 2.3+ KB\n"
     ]
    }
   ],
   "source": [
    "labeled_reviews_new.info()"
   ]
  },
  {
   "cell_type": "code",
   "execution_count": 111,
   "id": "a65c599d-ed94-4ee1-b336-2d24834f2083",
   "metadata": {},
   "outputs": [],
   "source": [
    "labeled_reviews = pd.concat([labeled, labeled_reviews_new])\n"
   ]
  },
  {
   "cell_type": "code",
   "execution_count": 112,
   "id": "11f0c309-8e79-4a1f-a41c-704438aa0d50",
   "metadata": {},
   "outputs": [
    {
     "data": {
      "text/html": [
       "<div>\n",
       "<style scoped>\n",
       "    .dataframe tbody tr th:only-of-type {\n",
       "        vertical-align: middle;\n",
       "    }\n",
       "\n",
       "    .dataframe tbody tr th {\n",
       "        vertical-align: top;\n",
       "    }\n",
       "\n",
       "    .dataframe thead th {\n",
       "        text-align: right;\n",
       "    }\n",
       "</style>\n",
       "<table border=\"1\" class=\"dataframe\">\n",
       "  <thead>\n",
       "    <tr style=\"text-align: right;\">\n",
       "      <th></th>\n",
       "      <th>text</th>\n",
       "      <th>label</th>\n",
       "    </tr>\n",
       "  </thead>\n",
       "  <tbody>\n",
       "    <tr>\n",
       "      <th>29378</th>\n",
       "      <td>I just viewed MURDER AT THE VANITIES in the ne...</td>\n",
       "      <td>1</td>\n",
       "    </tr>\n",
       "    <tr>\n",
       "      <th>13332</th>\n",
       "      <td>The previous reviewer has said it exactly. I s...</td>\n",
       "      <td>1</td>\n",
       "    </tr>\n",
       "    <tr>\n",
       "      <th>1329</th>\n",
       "      <td>I usually can tolerate twisted movies, but thi...</td>\n",
       "      <td>0</td>\n",
       "    </tr>\n",
       "    <tr>\n",
       "      <th>35600</th>\n",
       "      <td>This film is where the Batman franchise ought ...</td>\n",
       "      <td>1</td>\n",
       "    </tr>\n",
       "    <tr>\n",
       "      <th>9864</th>\n",
       "      <td>I am truly beginning to believe that Seagal is...</td>\n",
       "      <td>0</td>\n",
       "    </tr>\n",
       "  </tbody>\n",
       "</table>\n",
       "</div>"
      ],
      "text/plain": [
       "                                                    text  label\n",
       "29378  I just viewed MURDER AT THE VANITIES in the ne...      1\n",
       "13332  The previous reviewer has said it exactly. I s...      1\n",
       "1329   I usually can tolerate twisted movies, but thi...      0\n",
       "35600  This film is where the Batman franchise ought ...      1\n",
       "9864   I am truly beginning to believe that Seagal is...      0"
      ]
     },
     "execution_count": 112,
     "metadata": {},
     "output_type": "execute_result"
    }
   ],
   "source": [
    "labeled_reviews.head()"
   ]
  },
  {
   "cell_type": "code",
   "execution_count": 115,
   "id": "8330892d-da8f-403d-99c2-682577cdc3af",
   "metadata": {},
   "outputs": [],
   "source": [
    "model, vectorizer = train_model_en(labeled_reviews)"
   ]
  },
  {
   "cell_type": "code",
   "execution_count": 116,
   "id": "3f60f963-f96d-41af-8795-befacb1df04e",
   "metadata": {},
   "outputs": [
    {
     "data": {
      "text/html": [
       "<div>\n",
       "<style scoped>\n",
       "    .dataframe tbody tr th:only-of-type {\n",
       "        vertical-align: middle;\n",
       "    }\n",
       "\n",
       "    .dataframe tbody tr th {\n",
       "        vertical-align: top;\n",
       "    }\n",
       "\n",
       "    .dataframe thead th {\n",
       "        text-align: right;\n",
       "    }\n",
       "</style>\n",
       "<table border=\"1\" class=\"dataframe\">\n",
       "  <thead>\n",
       "    <tr style=\"text-align: right;\">\n",
       "      <th></th>\n",
       "      <th>text</th>\n",
       "      <th>label</th>\n",
       "    </tr>\n",
       "  </thead>\n",
       "  <tbody>\n",
       "    <tr>\n",
       "      <th>0</th>\n",
       "      <td>I grew up (b. 1965) watching and loving the Th...</td>\n",
       "      <td>0</td>\n",
       "    </tr>\n",
       "    <tr>\n",
       "      <th>1</th>\n",
       "      <td>When I put this movie in my DVD player, and sa...</td>\n",
       "      <td>0</td>\n",
       "    </tr>\n",
       "    <tr>\n",
       "      <th>2</th>\n",
       "      <td>Why do people who do not know what a particula...</td>\n",
       "      <td>0</td>\n",
       "    </tr>\n",
       "    <tr>\n",
       "      <th>3</th>\n",
       "      <td>Even though I have great interest in Biblical ...</td>\n",
       "      <td>0</td>\n",
       "    </tr>\n",
       "    <tr>\n",
       "      <th>4</th>\n",
       "      <td>Im a die hard Dads Army fan and nothing will e...</td>\n",
       "      <td>1</td>\n",
       "    </tr>\n",
       "  </tbody>\n",
       "</table>\n",
       "</div>"
      ],
      "text/plain": [
       "                                                text  label\n",
       "0  I grew up (b. 1965) watching and loving the Th...      0\n",
       "1  When I put this movie in my DVD player, and sa...      0\n",
       "2  Why do people who do not know what a particula...      0\n",
       "3  Even though I have great interest in Biblical ...      0\n",
       "4  Im a die hard Dads Army fan and nothing will e...      1"
      ]
     },
     "execution_count": 116,
     "metadata": {},
     "output_type": "execute_result"
    }
   ],
   "source": [
    "# Тестовык данные возьмем из исходных данных ,которые у нас сохранены в оригинальном df\n",
    "df.head()"
   ]
  },
  {
   "cell_type": "code",
   "execution_count": 118,
   "id": "ee2bd11b-d816-4d3d-a338-789a9b7f61e3",
   "metadata": {},
   "outputs": [
    {
     "name": "stdout",
     "output_type": "stream",
     "text": [
      "0.8821373743376417\n"
     ]
    }
   ],
   "source": [
    "X_test = vectorizer.transform(df['text'])\n",
    "y_test_predicted = model.predict(X_test)\n",
    "f1 = f1_score(df['label'], y_test_predicted)\n",
    "\n",
    "print(f1)"
   ]
  },
  {
   "cell_type": "markdown",
   "id": "c95f4ce2-7cea-4a3c-a0d9-bdfbd04a1af3",
   "metadata": {},
   "source": [
    "Итоговая точность модели составила 88%. Что не очень хороший результат с учетом того что мы использовали уже размеченные датасет.\n",
    "Однако из этого можно сделать вывод о неточности самой разметки или использовании иной языковой модели. \n",
    "Куда большей проблемой является недостаточность доступных инструментов для решения практических задач связанных с анализом русского языка.\n",
    "Это еще больше актуализирует задачу обновления учебных планов отвечающих новым реалиям и ограничениям."
   ]
  },
  {
   "cell_type": "code",
   "execution_count": null,
   "id": "9b712f1f-cf43-447d-b820-259dd431692e",
   "metadata": {},
   "outputs": [],
   "source": []
  }
 ],
 "metadata": {
  "kernelspec": {
   "display_name": "Python 3 (ipykernel)",
   "language": "python",
   "name": "python3"
  },
  "language_info": {
   "codemirror_mode": {
    "name": "ipython",
    "version": 3
   },
   "file_extension": ".py",
   "mimetype": "text/x-python",
   "name": "python",
   "nbconvert_exporter": "python",
   "pygments_lexer": "ipython3",
   "version": "3.11.3"
  }
 },
 "nbformat": 4,
 "nbformat_minor": 5
}
